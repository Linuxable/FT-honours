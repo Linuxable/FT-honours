{
 "cells": [
  {
   "cell_type": "markdown",
   "metadata": {},
   "source": [
    "# **Simulatie alleen parafine**"
   ]
  },
  {
   "cell_type": "code",
   "execution_count": 1,
   "metadata": {},
   "outputs": [],
   "source": [
    "import numpy as np\n",
    "import matplotlib.pyplot as plt\n",
    "from tqdm import tqdm"
   ]
  },
  {
   "cell_type": "markdown",
   "metadata": {},
   "source": [
    "### **Constanten**"
   ]
  },
  {
   "cell_type": "code",
   "execution_count": 2,
   "metadata": {},
   "outputs": [],
   "source": [
    "Tm = 54 + 273.15\n",
    "dT = 0.5\n",
    "\n",
    "l_l, rho_l, c_l = (0.15, 780, 2100)\n",
    "l_s, rho_s, c_s = (0.24, 860, 2900)\n",
    "L = 2.1e5 # J/kg\n",
    "\n",
    "# x_staaf = 0.3 # (m) Staaf lengte\n",
    "x = 0.1 #(m) Simluatie lengte\n",
    "t = 1600 # (s) Simulatie tijd\n",
    "\n",
    "T_0 = 35 + 273.15\n",
    "T_x0 = 100 + 273.15\n",
    "T_ref = Tm - dT"
   ]
  },
  {
   "cell_type": "markdown",
   "metadata": {},
   "source": [
    "### **Variabelen die een functie van T zijn**"
   ]
  },
  {
   "cell_type": "code",
   "execution_count": 3,
   "metadata": {},
   "outputs": [],
   "source": [
    "def theta_l(T):\n",
    "    if T >= Tm + dT:\n",
    "        return 1\n",
    "    elif Tm - dT < T and T < Tm + dT:\n",
    "        return (T - Tm + dT)/2/dT\n",
    "    else:\n",
    "        return 0\n",
    "\n",
    "def theta_s(T):\n",
    "    return 1 - theta_l(T)\n",
    "\n",
    "def l_phi(T):\n",
    "    return theta_l(T) * l_l + theta_s(T) * l_s\n",
    "\n",
    "def rho_phi(T):\n",
    "    return theta_l(T) * rho_l + theta_s(T) * rho_s\n",
    "\n",
    "def dthetal_dT(T):\n",
    "    if Tm - dT < T and T < Tm + dT:\n",
    "        return 1/2/dT\n",
    "    else:\n",
    "        return 0\n",
    "\n",
    "def cA(T):\n",
    "    return theta_s(T)*rho_s*c_s + theta_l(T)*rho_l*c_l + ((rho_l*c_l - rho_s*c_s)*(T - T_ref) + rho_l*L) * dthetal_dT(T)"
   ]
  },
  {
   "cell_type": "markdown",
   "metadata": {},
   "source": [
    "### **Oplossen**"
   ]
  },
  {
   "cell_type": "code",
   "execution_count": 5,
   "metadata": {},
   "outputs": [
    {
     "name": "stderr",
     "output_type": "stream",
     "text": [
      "100%|██████████| 399999/399999 [2:31:34<00:00, 43.98it/s]  \n"
     ]
    }
   ],
   "source": [
    "dt = 0.004\n",
    "dx = 0.00004\n",
    "\n",
    "i_max, k_max = (int(x/dx), int(t/dt))\n",
    "T = np.empty((k_max, i_max))\n",
    "# T = np.memmap('T_grid/T_grid.dat2', dtype=np.float32, mode='w+', shape=(k_max, i_max))\n",
    "T.fill(T_0)\n",
    "T[:,:1] = T_x0\n",
    "    \n",
    "try:\n",
    "    for k in tqdm(range(0, k_max-1)):\n",
    "        for i in range(1, i_max-1):\n",
    "\n",
    "            cfl_term = l_phi(T[k,i+1]) * dt / (dx**2 * cA(T[k,i]))\n",
    "            if cfl_term > 0.5:\n",
    "                raise ValueError(f\"CFL condition violated: {cfl_term}. Reduce dt or increase dx.\")\n",
    "            \n",
    "            T[k + 1, i] = T[k,i] + (dt/dx**2/cA(T[k,i]))*((l_phi(T[k,i+1])-l_phi(T[k,i]))*(T[k,i+1]-T[k,i])+l_phi(T[k,i])*(T[k,i+1]-2*T[k,i]+T[k,i-1]))\n",
    "except ValueError as e:\n",
    "    raise e\n",
    "except Exception as e:\n",
    "    print(e)"
   ]
  },
  {
   "cell_type": "code",
   "execution_count": 6,
   "metadata": {},
   "outputs": [],
   "source": [
    "np.savetxt('opgeslagen_np_arrays/T-dt-{}-dx-{}-dT-{}.txt'.format(dt, dx, dT), T, fmt='%d')"
   ]
  },
  {
   "cell_type": "code",
   "execution_count": null,
   "metadata": {},
   "outputs": [],
   "source": [
    "# np.loadtxt('test1.txt', dtype=int)"
   ]
  },
  {
   "cell_type": "code",
   "execution_count": 7,
   "metadata": {},
   "outputs": [
    {
     "name": "stdout",
     "output_type": "stream",
     "text": [
      "Smeltfront positie als functie van de tijd voor verschillende dt en dx\n"
     ]
    },
    {
     "name": "stderr",
     "output_type": "stream",
     "text": [
      "The PostScript backend does not support transparency; partially transparent artists will be rendered opaque.\n"
     ]
    },
    {
     "data": {
      "image/png": "[encoded data removed]",
      "text/plain": [
       "<Figure size 640x480 with 1 Axes>"
      ]
     },
     "metadata": {},
     "output_type": "display_data"
    }
   ],
   "source": [
    "print('Smeltfront positie als functie van de tijd voor verschillende dt en dx')\n",
    "\n",
    "def calc_melt_height(T, dt, dx):\n",
    "    melt_height = []\n",
    "    melt_time = []\n",
    "    for idx, k in enumerate(T):\n",
    "        pos = np.argmin(np.array(k)>Tm)\n",
    "        melt_height.append(pos*dx)\n",
    "        melt_time.append(idx*dt)\n",
    "        \n",
    "    return melt_height, melt_time\n",
    "\n",
    "melt_height_var1, melt_time_var1 = calc_melt_height(T, dt, dx)\n",
    "\n",
    "plt.figure()\n",
    "plt.plot(melt_time_var1,melt_height_var1, label='dt: {}, dx: {}'.format(dt, dx))\n",
    "plt.xlabel('t (s)')\n",
    "plt.ylabel('h (m)')\n",
    "plt.legend()\n",
    "plt.savefig('figs/smeltfront-dx-dt.eps')\n",
    "plt.show()"
   ]
  }
 ],
 "metadata": {
  "kernelspec": {
   "display_name": "base",
   "language": "python",
   "name": "python3"
  },
  "language_info": {
   "codemirror_mode": {
    "name": "ipython",
    "version": 3
   },
   "file_extension": ".py",
   "mimetype": "text/x-python",
   "name": "python",
   "nbconvert_exporter": "python",
   "pygments_lexer": "ipython3",
   "version": "3.12.0"
  }
 },
 "nbformat": 4,
 "nbformat_minor": 2
}
