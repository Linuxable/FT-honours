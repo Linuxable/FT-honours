{
 "cells": [
  {
   "cell_type": "markdown",
   "metadata": {},
   "source": [
    "# **Numerieke Oplossing**"
   ]
  },
  {
   "cell_type": "code",
   "execution_count": 34,
   "metadata": {},
   "outputs": [],
   "source": [
    "import numpy as np\n",
    "import matplotlib.pyplot as plt"
   ]
  },
  {
   "cell_type": "markdown",
   "metadata": {},
   "source": [
    "### **Variabelen**"
   ]
  },
  {
   "cell_type": "code",
   "execution_count": 66,
   "metadata": {},
   "outputs": [],
   "source": [
    "dT = 0.5 # K\n",
    "dt = 1 # s\n",
    "dx = 0.01 # m\n",
    "Tm = 54 + 273.15\n",
    "\n",
    "l_l, rho_l, c_l = (0.15, 780, 2100)\n",
    "l_s, rho_s, c_s = (0.24, 860, 2900)\n",
    "\n",
    "L = 2.1e5\n",
    "\n",
    "T_0 = 20 + 273.15\n",
    "T_x0 = Tm\n",
    "T_ref = Tm - dT\n",
    "\n",
    "i_max, j_max = (1000, 10) # i: tijd, j: x"
   ]
  },
  {
   "cell_type": "markdown",
   "metadata": {},
   "source": [
    "### **Functies**"
   ]
  },
  {
   "cell_type": "code",
   "execution_count": 68,
   "metadata": {},
   "outputs": [],
   "source": [
    "def theta_l(T):\n",
    "    if T >= Tm + dT:\n",
    "        return 1\n",
    "    elif Tm - dT < T and T < Tm + dT:\n",
    "        return (T - Tm + dT)/2/dT\n",
    "    else:\n",
    "        return 0\n",
    "\n",
    "def theta_s(T):\n",
    "    return 1 - theta_l(T)\n",
    "\n",
    "def l_phi(T):\n",
    "    return theta_l(T) * l_l + theta_s(T) * l_s\n",
    "\n",
    "def rho_phi(T):\n",
    "    return theta_l(T) * rho_l + theta_s(T) * rho_s\n",
    "\n",
    "def dthetal_dT(T):\n",
    "    if Tm - dT < T and T < Tm + dT:\n",
    "        return 1/2/dT\n",
    "    else:\n",
    "        return 0\n",
    "\n",
    "def cA(T):\n",
    "    return theta_s(T)*rho_s*c_s + theta_l(T)*rho_l*c_l + ((rho_l*c_l - rho_s*c_s)*(T - T_ref) + rho_l*L) * dthetal_dT(T)"
   ]
  },
  {
   "cell_type": "markdown",
   "metadata": {},
   "source": [
    "### **Iteratie**"
   ]
  },
  {
   "cell_type": "code",
   "execution_count": 77,
   "metadata": {},
   "outputs": [
    {
     "name": "stdout",
     "output_type": "stream",
     "text": [
      "i, j, T(i,j), dt/dx**2/Ca, (l_phi..)\n",
      "0 2 293.15 0.00400962309542903 -6.63\n",
      "0 3 293.15 0.00400962309542903 6.63\n",
      "0 4 293.15 0.00400962309542903 0.0\n",
      "0 5 293.15 0.00400962309542903 0.0\n",
      "0 6 293.15 0.00400962309542903 0.0\n",
      "0 7 293.15 0.00400962309542903 0.0\n",
      "0 8 293.15 0.00400962309542903 0.0\n",
      "0 9 293.15 0.00400962309542903 0.0\n",
      "1 2 293.1234161988773 0.00400962309542903 -6.6351838412189235\n",
      "1 3 293.17658380112266 0.00400962309542903 6.6479440657578115\n",
      "1 4 293.15 0.00400962309542903 -0.019140336808331992\n",
      "1 5 293.15 0.00400962309542903 0.006380112269443998\n",
      "1 6 293.15 0.00400962309542903 0.0\n",
      "1 7 293.15 0.00400962309542903 0.0\n",
      "1 8 293.15 0.00400962309542903 0.0\n",
      "1 9 293.15 0.00400962309542903 0.0\n",
      "2 2 293.0968116125051 0.00400962309542903 -6.640371735561497\n",
      "2 3 293.20323955118585 0.00400962309542903 6.665914440844871\n",
      "2 4 293.14992325446343 0.00400962309542903 -0.038338616496753276\n",
      "2 5 293.1500255818455 0.00400962309542903 0.012820469785078786\n",
      "2 6 293.15 0.00400962309542903 -3.069821462759137e-05\n",
      "2 7 293.15 0.00400962309542903 6.139642928246758e-06\n",
      "2 8 293.15 0.00400962309542903 0.0\n",
      "2 9 293.15 0.00400962309542903 0.0\n",
      "3 2 293.070186224632 0.00400962309542903 -6.645563686196759\n",
      "3 3 293.22996735568 0.00400962309542903 6.683911157648284\n",
      "3 4 293.1497695310613 0.00400962309542903 -0.05759494936001829\n",
      "3 5 293.15007698709724 0.00400962309542903 0.019321267357122453\n",
      "3 6 293.1499998769117 0.00400962309542903 -9.229589315964403e-05\n",
      "3 7 293.1500000246176 0.00400962309542903 1.8541893950896338e-05\n",
      "3 8 293.15 0.00400962309542903 -4.135765266255475e-08\n",
      "3 9 293.15 0.00400962309542903 5.908232196816243e-09\n",
      "4 2 293.04354001899367 0.00400962309542903 -6.65075969629623\n",
      "4 3 293.2567673202255 0.00400962309542903 6.7019342485918685\n",
      "4 4 293.1495385970222 0.00400962309542903 -0.07690944586443492\n",
      "4 5 293.15015445809706 0.00400962309542903 0.02588270022677079\n",
      "4 6 293.14999950683995 0.00400962309542903 -0.00018499495968171686\n",
      "4 7 293.15000009896363 0.00400962309542903 3.7330411391849335e-05\n",
      "4 8 293.14999999983417 0.00400962309542903 -1.659007557464065e-07\n",
      "4 9 293.1500000000237 0.00400962309542903 2.383655555604491e-08\n"
     ]
    },
    {
     "data": {
      "image/png": "[encoded data removed]",
      "text/plain": [
       "<Figure size 600x600 with 2 Axes>"
      ]
     },
     "metadata": {},
     "output_type": "display_data"
    }
   ],
   "source": [
    "T_grid = np.ones((i_max, j_max))*T_0\n",
    "T_grid[:,0] = T_x0\n",
    "T_grid[:,1] = T_x0\n",
    "\n",
    "print('i, j, T(i,j), dt/dx**2/Ca, (l_phi..)')\n",
    "\n",
    "for i in range(i_max-1):\n",
    "    for j in range(2, j_max):\n",
    "        T_grid[i+1, j] = T_grid[i, j] + dt/dx**2/cA(T_grid[i, j])*(l_phi(T_grid[i,j-1])*(T_grid[i,j]-T_grid[i,j-1]) - l_phi(T_grid[i,j-2])*(T_grid[i,j-1]-T_grid[i,j-2]))\n",
    "        print(i,j,T_grid[i,j],dt/dx**2/cA(T_grid[i, j]), (l_phi(T_grid[i,j-1])*(T_grid[i,j]-T_grid[i,j-1]) - l_phi(T_grid[i,j-2])*(T_grid[i,j-1]-T_grid[i,j-2])))\n",
    "    \n",
    "    if i > 3:\n",
    "        break\n",
    "\n",
    "plt.figure(figsize=(6,6))\n",
    "plt.imshow(T_grid)\n",
    "plt.colorbar()\n",
    "plt.show()"
   ]
  }
 ],
 "metadata": {
  "kernelspec": {
   "display_name": "base",
   "language": "python",
   "name": "python3"
  },
  "language_info": {
   "codemirror_mode": {
    "name": "ipython",
    "version": 3
   },
   "file_extension": ".py",
   "mimetype": "text/x-python",
   "name": "python",
   "nbconvert_exporter": "python",
   "pygments_lexer": "ipython3",
   "version": "3.12.3"
  }
 },
 "nbformat": 4,
 "nbformat_minor": 2
}
