{
 "cells": [
  {
   "cell_type": "markdown",
   "metadata": {},
   "source": [
    "# **Simulatie alleen parafine**"
   ]
  },
  {
   "cell_type": "code",
   "execution_count": 1,
   "metadata": {},
   "outputs": [],
   "source": [
    "import numpy as np\n",
    "import matplotlib.pyplot as plt\n",
    "from tqdm import tqdm"
   ]
  },
  {
   "cell_type": "markdown",
   "metadata": {},
   "source": [
    "### **Constanten**"
   ]
  },
  {
   "cell_type": "code",
   "execution_count": 2,
   "metadata": {},
   "outputs": [
    {
     "name": "stdout",
     "output_type": "stream",
     "text": [
      "i_max: 2500, k_max: 400000\n"
     ]
    }
   ],
   "source": [
    "dt = 0.004\n",
    "dx = 0.00004\n",
    "Tm = 54 + 273.15\n",
    "\n",
    "l_l, rho_l, c_l = (0.15, 780, 2100)\n",
    "l_s, rho_s, c_s = (0.24, 860, 2900)\n",
    "L = 2.1e5 # J/kg\n",
    "\n",
    "# x_staaf = 0.3 # (m) Staaf lengte\n",
    "x = 0.1 #(m) Simluatie lengte\n",
    "t = 1600 # (s) Simulatie tijd\n",
    "\n",
    "T_0 = 35 + 273.15\n",
    "T_x0 = 100 + 273.15\n",
    "\n",
    "i_max, k_max = (int(x/dx), int(t/dt))\n",
    "\n",
    "print('i_max: {}, k_max: {}'.format(i_max, k_max))"
   ]
  },
  {
   "cell_type": "markdown",
   "metadata": {},
   "source": [
    "### **Variabelen die een functie van T zijn**"
   ]
  },
  {
   "cell_type": "code",
   "execution_count": 3,
   "metadata": {},
   "outputs": [],
   "source": [
    "def theta_l(T, dT):\n",
    "    if T >= Tm + dT:\n",
    "        return 1\n",
    "    elif Tm - dT < T and T < Tm + dT:\n",
    "        return (T - Tm + dT)/2/dT\n",
    "    else:\n",
    "        return 0\n",
    "\n",
    "def theta_s(T, dT):\n",
    "    return 1 - theta_l(T, dT)\n",
    "\n",
    "def l_phi(T, dT):\n",
    "    return theta_l(T, dT) * l_l + theta_s(T, dT) * l_s\n",
    "\n",
    "def rho_phi(T, dT):\n",
    "    return theta_l(T, dT) * rho_l + theta_s(T, dT) * rho_s\n",
    "\n",
    "def dthetal_dT(T, dT):\n",
    "    if Tm - dT < T and T < Tm + dT:\n",
    "        return 1/2/dT\n",
    "    else:\n",
    "        return 0\n",
    "\n",
    "def cA(T, dT):\n",
    "    T_ref = Tm - dT\n",
    "    \n",
    "    return theta_s(T, dT)*rho_s*c_s + theta_l(T, dT)*rho_l*c_l + ((rho_l*c_l - rho_s*c_s)*(T - T_ref) + rho_l*L) * dthetal_dT(T, dT)"
   ]
  },
  {
   "cell_type": "markdown",
   "metadata": {},
   "source": [
    "### **Oplossen**"
   ]
  },
  {
   "cell_type": "code",
   "execution_count": 4,
   "metadata": {},
   "outputs": [
    {
     "name": "stderr",
     "output_type": "stream",
     "text": [
      "100%|██████████| 399999/399999 [1:45:00<00:00, 63.48it/s]  \n",
      "100%|██████████| 399999/399999 [1:44:26<00:00, 63.83it/s]  \n",
      "100%|██████████| 399999/399999 [1:45:17<00:00, 63.32it/s]  \n",
      "100%|██████████| 399999/399999 [1:37:24<00:00, 68.43it/s]  \n",
      "100%|██████████| 399999/399999 [1:37:25<00:00, 68.43it/s]  \n"
     ]
    }
   ],
   "source": [
    "def calculate_T(dT):\n",
    "    T = np.empty((k_max, i_max))\n",
    "    T.fill(T_0)\n",
    "    T[:,:1] = T_x0\n",
    "    \n",
    "    try:\n",
    "        for k in tqdm(range(0, k_max-1)):\n",
    "            for i in range(1, i_max-1):\n",
    "\n",
    "                T[k + 1, i] = T[k,i] + (dt/dx**2/cA(T[k,i], dT))*((l_phi(T[k,i+1], dT)-l_phi(T[k,i], dT))*(T[k,i+1]-T[k,i])+l_phi(T[k,i], dT)*(T[k,i+1]-2*T[k,i]+T[k,i-1]))\n",
    "                \n",
    "    except Exception as e:\n",
    "        print(e)\n",
    "        return T\n",
    "    return T\n",
    "\n",
    "dT_ar = [3,2,1,0.5,0.25]\n",
    "\n",
    "\n",
    "for dT in dT_ar:\n",
    "    T_grid = calculate_T(dT)\n",
    "    # np.savetxt('opgeslagen_np_arrays/T-dt-{}-dx-{}-dT-{}.txt'.format(dt, dx, dT), T_grid, fmt='%d')"
   ]
  },
  {
   "cell_type": "code",
   "execution_count": 6,
   "metadata": {},
   "outputs": [],
   "source": [
    "# print('Smeltfront positie als functie van de tijd voor verschillende dT')\n",
    "\n",
    "def calc_melt_height(T):\n",
    "    melt_height = []\n",
    "    melt_time = []\n",
    "    for idx, k in enumerate(T):\n",
    "        pos = np.argmin(np.array(k)>Tm)\n",
    "        melt_height.append(pos*dx)\n",
    "        melt_time.append(idx*dt)\n",
    "        \n",
    "    return melt_height, melt_time\n",
    "\n",
    "plt.figure()\n",
    "\n",
    "for dT in dT_ar:\n",
    "    T_grid = np.loadtxt('opgeslagen_np_arrays/T-dt-{}-dx-{}-dT-{}.txt'.format(dt, dx, dT), dtype=int)\n",
    "    melt_height, melt_time = calc_melt_height(T_grid)\n",
    "\n",
    "    plt.plot(melt_time,melt_height, label='dT: {}'.format(dT))\n",
    "    \n",
    "plt.xlabel('t (s)')\n",
    "plt.ylabel('h (m)')\n",
    "plt.legend()\n",
    "plt.savefig('figs/smeltfront-dT.eps')\n",
    "plt.show()"
   ]
  }
 ],
 "metadata": {
  "kernelspec": {
   "display_name": "base",
   "language": "python",
   "name": "python3"
  },
  "language_info": {
   "codemirror_mode": {
    "name": "ipython",
    "version": 3
   },
   "file_extension": ".py",
   "mimetype": "text/x-python",
   "name": "python",
   "nbconvert_exporter": "python",
   "pygments_lexer": "ipython3",
   "version": "3.12.0"
  }
 },
 "nbformat": 4,
 "nbformat_minor": 2
}
