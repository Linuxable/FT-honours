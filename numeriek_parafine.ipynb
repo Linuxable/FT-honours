{
 "cells": [
  {
   "cell_type": "markdown",
   "metadata": {},
   "source": [
    "# **Simulatie alleen parafine**"
   ]
  },
  {
   "cell_type": "code",
   "execution_count": 1,
   "metadata": {},
   "outputs": [
    {
     "name": "stderr",
     "output_type": "stream",
     "text": [
      "C:\\Users\\abell\\AppData\\Local\\Temp\\ipykernel_9848\\97107199.py:4: DeprecationWarning: \n",
      "Pyarrow will become a required dependency of pandas in the next major release of pandas (pandas 3.0),\n",
      "(to allow more performant data types, such as the Arrow string type, and better interoperability with other libraries)\n",
      "but was not found to be installed on your system.\n",
      "If this would cause problems for you,\n",
      "please provide us feedback at https://github.com/pandas-dev/pandas/issues/54466\n",
      "        \n",
      "  import pandas as pd\n"
     ]
    }
   ],
   "source": [
    "import numpy as np\n",
    "import matplotlib.pyplot as plt\n",
    "from tqdm import tqdm\n",
    "import pandas as pd"
   ]
  },
  {
   "cell_type": "markdown",
   "metadata": {},
   "source": [
    "### **Constanten**"
   ]
  },
  {
   "cell_type": "code",
   "execution_count": 2,
   "metadata": {},
   "outputs": [
    {
     "name": "stdout",
     "output_type": "stream",
     "text": [
      "i_max: 2500, k_max: 400000\n"
     ]
    }
   ],
   "source": [
    "dT = 0.5 # K\n",
    "dt = 0.004 # s\n",
    "dx = 4e-05 # m\n",
    "Tm = 54 + 273.15\n",
    "\n",
    "l_l, rho_l, c_l = (0.15, 780, 2100)\n",
    "l_s, rho_s, c_s = (0.24, 860, 2900)\n",
    "L = 2.1e5 # J/kg\n",
    "\n",
    "# x_staaf = 0.3 # (m) Staaf lengte\n",
    "x = 0.1 #(m) Simluatie lengte\n",
    "t = 1600 # (s) Simulatie tijd\n",
    "\n",
    "T_0 = 35 + 273.15\n",
    "T_x0 = 100 + 273.15\n",
    "T_ref = Tm - dT\n",
    "\n",
    "i_max, k_max = (int(x/dx), int(t/dt))\n",
    "\n",
    "print('i_max: {}, k_max: {}'.format(i_max, k_max))"
   ]
  },
  {
   "cell_type": "markdown",
   "metadata": {},
   "source": [
    "### **Variabelen die een functie van T zijn**"
   ]
  },
  {
   "cell_type": "code",
   "execution_count": 3,
   "metadata": {},
   "outputs": [],
   "source": [
    "def theta_l(T):\n",
    "    if T >= Tm + dT:\n",
    "        return 1\n",
    "    elif Tm - dT < T and T < Tm + dT:\n",
    "        return (T - Tm + dT)/2/dT\n",
    "    else:\n",
    "        return 0\n",
    "\n",
    "def theta_s(T):\n",
    "    return 1 - theta_l(T)\n",
    "\n",
    "def l_phi(T):\n",
    "    return theta_l(T) * l_l + theta_s(T) * l_s\n",
    "\n",
    "def rho_phi(T):\n",
    "    return theta_l(T) * rho_l + theta_s(T) * rho_s\n",
    "\n",
    "def dthetal_dT(T):\n",
    "    if Tm - dT < T and T < Tm + dT:\n",
    "        return 1/2/dT\n",
    "    else:\n",
    "        return 0\n",
    "\n",
    "def cA(T):\n",
    "    return theta_s(T)*rho_s*c_s + theta_l(T)*rho_l*c_l + ((rho_l*c_l - rho_s*c_s)*(T - T_ref) + rho_l*L) * dthetal_dT(T)"
   ]
  },
  {
   "cell_type": "markdown",
   "metadata": {},
   "source": [
    "### **Oplossen**"
   ]
  },
  {
   "cell_type": "code",
   "execution_count": 4,
   "metadata": {},
   "outputs": [],
   "source": [
    "# Initieer oplossing\n",
    "# T = np.empty((k_max, i_max))\n",
    "\n",
    "# theta_l_grid = np.empty((k_max, i_max))\n",
    "\n",
    "# # Initiele waarden\n",
    "# T.fill(T_0)\n",
    "\n",
    "# # Randvoorwaarden\n",
    "# T[:,:1] = T_x0\n",
    "# theta_l_grid[:,:1] = 1\n",
    "\n",
    "# def calculate_T(T):\n",
    "#     try:\n",
    "#         for k in tqdm(range(0, k_max-1)):\n",
    "#             for i in range(1, i_max-1):\n",
    "\n",
    "#                 T[k + 1, i] = T[k,i] + (dt/dx**2/cA(T[k,i]))*((l_phi(T[k,i+1])-l_phi(T[k,i]))*(T[k,i+1]-T[k,i])+l_phi(T[k,i])*(T[k,i+1]-2*T[k,i]+T[k,i-1]))\n",
    "#                 theta_l_grid[k, i] = theta_l(T[k,i])\n",
    "                \n",
    "#     except Exception as e:\n",
    "#         print(e)\n",
    "#         return T\n",
    "#     return T\n",
    "\n",
    "# T = calculate_T(T)"
   ]
  },
  {
   "cell_type": "code",
   "execution_count": 5,
   "metadata": {},
   "outputs": [],
   "source": [
    "def plot_grid(T_k, k):\n",
    "    sim_t = k*dt\n",
    "    if k == -1:\n",
    "        sim_t = t\n",
    "        \n",
    "    print(f\"T(x,t={sim_t:.1f})s\")\n",
    "    \n",
    "    plt.figure()\n",
    "    plt.plot(np.arange(0,x,dx), T_k)\n",
    "    plt.axvline(np.argmin(T_k>Tm)*dx, linestyle='--',color='r', label='Smeltfront')\n",
    "    plt.xlabel(\"x (m)\")\n",
    "    plt.ylabel(\"T (K)\")\n",
    "    plt.legend()\n",
    "    plt.show()\n",
    "\n",
    "k = -1\n",
    "# plot_grid(T[k,:], k)"
   ]
  },
  {
   "cell_type": "code",
   "execution_count": 6,
   "metadata": {},
   "outputs": [],
   "source": [
    "# T = np.loadtxt('opgeslagen_np_arrays/T-dt-0.004-dx-4e-05-dT-0.5.txt')"
   ]
  },
  {
   "cell_type": "code",
   "execution_count": 7,
   "metadata": {},
   "outputs": [],
   "source": [
    "# melt_height = []\n",
    "# melt_time = []\n",
    "# for idx, k in enumerate(T):\n",
    "#     pos = np.argmin(np.array(k)>Tm)\n",
    "#     melt_height.append(pos*dx)\n",
    "#     melt_time.append(idx*dt)"
   ]
  },
  {
   "cell_type": "markdown",
   "metadata": {},
   "source": [
    "### Experiment en Simulatie ###"
   ]
  },
  {
   "cell_type": "code",
   "execution_count": 8,
   "metadata": {},
   "outputs": [],
   "source": [
    "# #Data importeren\n",
    "# data1 = np.loadtxt(\"experiment/FT_Honours_Data3.csv\", delimiter=';', skiprows=1, usecols=[2,3,4],max_rows=480)\n",
    "# t_data1 = data1[:,0]-data1[0,0]\n",
    "# y_data1 = data1[:,2]-data1[0,2] #Aftrekken van startwaarde\n",
    "\n",
    "# data2 = np.loadtxt(\"experiment/FT_Honours_Data3.csv\", delimiter=';', skiprows=1, usecols=[6,7,8],max_rows=497)\n",
    "# t_data2 = data2[:,0]-data2[0,0]\n",
    "# y_data2 = data2[:,2]-data2[0,2] #Aftrekken van startwaarde\n",
    "\n",
    "# data3 = np.loadtxt(\"experiment/FT_Honours_Data3.csv\", delimiter=';', skiprows=1, usecols=[10,11,12],max_rows=1399)\n",
    "# t_data3 = data3[:,0]-data3[0,0]\n",
    "# y_data3 = data3[:,2]-data3[0,2] #Aftrekken van startwaarde"
   ]
  },
  {
   "cell_type": "code",
   "execution_count": 9,
   "metadata": {},
   "outputs": [],
   "source": [
    "# print('Smeltfront positie als functie van de tijd')\n",
    "\n",
    "# plt.figure()\n",
    "# plt.plot(t_data1,y_data1, label='Experiment 1')\n",
    "# plt.plot(t_data2,y_data2, label='Experiment 2')\n",
    "# plt.plot(t_data3,y_data3, label='Experiment 3')\n",
    "# plt.plot(melt_time, melt_height, label='Simulatie')\n",
    "# plt.xlabel('t (s)')\n",
    "# plt.ylabel('h (m)')\n",
    "# plt.legend()\n",
    "# plt.savefig('figs/smeltfront.eps')\n",
    "# plt.show()"
   ]
  },
  {
   "cell_type": "markdown",
   "metadata": {},
   "source": [
    "### **Verplichte code outputs**"
   ]
  },
  {
   "cell_type": "code",
   "execution_count": 11,
   "metadata": {},
   "outputs": [
    {
     "name": "stderr",
     "output_type": "stream",
     "text": [
      "100%|██████████| 399999/399999 [09:12<00:00, 723.33it/s]\n"
     ]
    },
    {
     "name": "stdout",
     "output_type": "stream",
     "text": [
      "t = 400.0s\n"
     ]
    },
    {
     "name": "stderr",
     "output_type": "stream",
     "text": [
      "100%|██████████| 399999/399999 [08:58<00:00, 742.95it/s]\n"
     ]
    },
    {
     "name": "stdout",
     "output_type": "stream",
     "text": [
      "t = 800.0s\n"
     ]
    },
    {
     "name": "stderr",
     "output_type": "stream",
     "text": [
      "100%|██████████| 399999/399999 [08:41<00:00, 767.23it/s]\n"
     ]
    },
    {
     "name": "stdout",
     "output_type": "stream",
     "text": [
      "t = 1599.996s\n"
     ]
    }
   ],
   "source": [
    "def generate_theta_l(T, dT):\n",
    "    if T >= Tm + dT:\n",
    "        return 1\n",
    "    elif Tm - dT < T and T < Tm + dT:\n",
    "        return (T - Tm + dT)/2/dT\n",
    "    else:\n",
    "        return 0\n",
    "\n",
    "def generate_theta_l_grid(T_grid, dt, dx, dT):\n",
    "    theta_l_grid = np.empty_like(T_grid)\n",
    "    i_max, k_max = (int(x/dx), int(t/dt))\n",
    "\n",
    "    \n",
    "    for k in tqdm(range(0, k_max-1)):\n",
    "        for i in range(1, i_max-1):\n",
    "            theta_l_grid[k,i] = generate_theta_l(T_grid[k,i], dT)\n",
    "    \n",
    "    return theta_l_grid\n",
    "\n",
    "def generate_code_output(k, T_grid, theta_l_grid):\n",
    "    t_output = k*dt\n",
    "    print('t = {}s'.format(t_output))\n",
    "\n",
    "    df_dict = {\n",
    "        'T': T_grid[k-1,:],\n",
    "        'theta_l': theta_l_grid[k-1,:]\n",
    "    }\n",
    "\n",
    "    df = pd.DataFrame(df_dict)\n",
    "    df.to_csv('tabellen/T-theta_l-t{}.csv'.format(t_output), index=False)\n",
    "\n",
    "# T_grid = np.loadtxt('opgeslagen_np_arrays/T-dt-0.004-dx-4e-05-dT-0.5.txt')\n",
    "# T_grid = T\n",
    "\n",
    "generate_code_output(\n",
    "    int(k_max/4),\n",
    "    T_grid,\n",
    "    generate_theta_l_grid(T_grid, 0.004, 4e-05, 0.5)\n",
    ")\n",
    "\n",
    "generate_code_output(\n",
    "    int(k_max/2),\n",
    "    T_grid,\n",
    "    generate_theta_l_grid(T_grid, 0.004, 4e-05, 0.5)\n",
    ")\n",
    "\n",
    "generate_code_output(\n",
    "    int(k_max-2*0.004),\n",
    "    T_grid,\n",
    "    generate_theta_l_grid(T_grid, 0.004, 4e-05, 0.5)\n",
    ")"
   ]
  }
 ],
 "metadata": {
  "kernelspec": {
   "display_name": "base",
   "language": "python",
   "name": "python3"
  },
  "language_info": {
   "codemirror_mode": {
    "name": "ipython",
    "version": 3
   },
   "file_extension": ".py",
   "mimetype": "text/x-python",
   "name": "python",
   "nbconvert_exporter": "python",
   "pygments_lexer": "ipython3",
   "version": "3.12.0"
  }
 },
 "nbformat": 4,
 "nbformat_minor": 2
}
